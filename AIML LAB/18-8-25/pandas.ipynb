{
 "cells": [
  {
   "cell_type": "code",
   "execution_count": null,
   "id": "cdbe14e1",
   "metadata": {},
   "outputs": [
    {
     "name": "stdout",
     "output_type": "stream",
     "text": [
      "1     satya\n",
      "2    sootar\n",
      "3       omm\n",
      "dtype: object\n"
     ]
    }
   ],
   "source": [
    "#WAP to create a series of data & display them using pandas.\n",
    "\n",
    "import pandas as pd\n",
    "data = pd.Series(['satya', 'sootar', 'omm'], index = [1,2,3])\n",
    "print(data)\n"
   ]
  },
  {
   "cell_type": "code",
   "execution_count": 5,
   "id": "8a1834ef",
   "metadata": {},
   "outputs": [
    {
     "name": "stdout",
     "output_type": "stream",
     "text": [
      "     Name  Age       Phone\n",
      "0   Satya   18  1234567890\n",
      "1  Sootar   19    98654321\n",
      "2     Omm   20    34245325\n"
     ]
    }
   ],
   "source": [
    "#Create a dataframe containing data and display them using students and display them\n",
    "\n",
    "df = pd.DataFrame({\"Name\":[\"Satya\", \"Sootar\", \"Omm\"],\n",
    "                   \"Age\": [18, 19, 20],\n",
    "                   \"Phone\":[1234567890, 98654321, 34245325]})\n",
    "print(df)"
   ]
  },
  {
   "cell_type": "code",
   "execution_count": null,
   "id": "6c1ea6f7",
   "metadata": {},
   "outputs": [
    {
     "name": "stdout",
     "output_type": "stream",
     "text": [
      "   Unnamed: 0    Name  Age       Phone\n",
      "0           0   Satya   18  1234567890\n",
      "1           1  Sootar   19    98654321\n",
      "2           2     Omm   20    34245325\n"
     ]
    }
   ],
   "source": [
    "#WAP to convert a dataframe to csv file and display the contents of the file.\n",
    "\n",
    "df = pd.DataFrame({\"Name\":[\"Satya\", \"Sootar\", \"Omm\"],\n",
    "                   \"Age\": [18, 19, 20],\n",
    "                   \"Phone\":[1234567890, 98654321, 34245325]})\n",
    "\n",
    "df.to_csv(\"/home/satyasootar/Desktop/5th sem AIML/18-8-25/Student.csv\")\n",
    "k = pd.read_csv(\"/home/satyasootar/Desktop/5th sem AIML/18-8-25/Student.csv\")\n",
    "print(k)"
   ]
  },
  {
   "cell_type": "code",
   "execution_count": null,
   "id": "09d44292",
   "metadata": {},
   "outputs": [
    {
     "name": "stdout",
     "output_type": "stream",
     "text": [
      "    Name  Age Branch  Roll Registration No    Phone No\n",
      "0   Amit   20    CSE   101      REG2025001  9876543210\n",
      "1   Riya   21    ECE   102      REG2025002  9123456780\n",
      "2  Soham   22     ME   103      REG2025003  9988776655\n",
      "3  Priya   20    CSE   104      REG2025004  9112233445\n",
      "4  Karan   23     EE   105      REG2025005  9876512345\n",
      "5  Sneha   21    ECE   106      REG2025006  9090909090\n",
      "6  Rahul   22     ME   107      REG2025007  9123456712\n",
      "7   Isha   20    CSE   108      REG2025008  9988776622\n",
      "8  Ankit   23     EE   109      REG2025009  9112233499\n",
      "9   Tina   21    CSE   110      REG2025010  9876598765\n"
     ]
    }
   ],
   "source": [
    "#WAP to create a excel file of 10 students with data for the following fields - Name, Age, Branch, Roll, Redg, Phone no.\n",
    "\n",
    "data = pd.read_csv(\"/home/satyasootar/Desktop/5th sem AIML/18-8-25/data.csv\")\n",
    "print"
   ]
  }
 ],
 "metadata": {
  "kernelspec": {
   "display_name": "Python 3",
   "language": "python",
   "name": "python3"
  },
  "language_info": {
   "codemirror_mode": {
    "name": "ipython",
    "version": 3
   },
   "file_extension": ".py",
   "mimetype": "text/x-python",
   "name": "python",
   "nbconvert_exporter": "python",
   "pygments_lexer": "ipython3",
   "version": "3.8.10"
  }
 },
 "nbformat": 4,
 "nbformat_minor": 5
}
